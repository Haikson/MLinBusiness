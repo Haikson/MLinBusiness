{
 "cells": [
  {
   "cell_type": "code",
   "execution_count": 1,
   "metadata": {},
   "outputs": [],
   "source": [
    "import warnings\n",
    "warnings.filterwarnings('ignore')\n",
    "\n",
    "import pandas as pd\n",
    "from sklearn.metrics import roc_auc_score,roc_curve,scorer\n",
    "import dill\n",
    "dill._dill._reverse_typemap['ClassType'] = type"
   ]
  },
  {
   "cell_type": "code",
   "execution_count": 2,
   "metadata": {},
   "outputs": [],
   "source": [
    "X_test = pd.read_csv(\"data/sarcasm/X_valid.csv\")\n",
    "y_test = pd.read_csv(\"data/sarcasm/y_valid.csv\")"
   ]
  },
  {
   "cell_type": "code",
   "execution_count": 3,
   "metadata": {},
   "outputs": [],
   "source": [
    "with open('data/logreg_pipeline.dill', 'rb') as in_strm:\n",
    "    pipeline = dill.load(in_strm)"
   ]
  },
  {
   "cell_type": "code",
   "execution_count": 4,
   "metadata": {},
   "outputs": [],
   "source": [
    "predictions = pipeline.predict_proba(X_test)\n",
    "pd.DataFrame({'preds': predictions[:, 1]}).to_csv(\"test_predictions.csv\", index=None)"
   ]
  },
  {
   "cell_type": "code",
   "execution_count": 5,
   "metadata": {},
   "outputs": [
    {
     "data": {
      "text/plain": [
       "0.7576489533011272"
      ]
     },
     "execution_count": 5,
     "metadata": {},
     "output_type": "execute_result"
    }
   ],
   "source": [
    "roc_auc_score(y_score=predictions[:, 1][:500], y_true=y_test.iloc[:500])"
   ]
  },
  {
   "cell_type": "code",
   "execution_count": 6,
   "metadata": {
    "scrolled": true
   },
   "outputs": [
    {
     "data": {
      "text/html": [
       "<div>\n",
       "<style scoped>\n",
       "    .dataframe tbody tr th:only-of-type {\n",
       "        vertical-align: middle;\n",
       "    }\n",
       "\n",
       "    .dataframe tbody tr th {\n",
       "        vertical-align: top;\n",
       "    }\n",
       "\n",
       "    .dataframe thead th {\n",
       "        text-align: right;\n",
       "    }\n",
       "</style>\n",
       "<table border=\"1\" class=\"dataframe\">\n",
       "  <thead>\n",
       "    <tr style=\"text-align: right;\">\n",
       "      <th></th>\n",
       "      <th>label</th>\n",
       "      <th>comment</th>\n",
       "      <th>author</th>\n",
       "      <th>subreddit</th>\n",
       "      <th>score</th>\n",
       "      <th>ups</th>\n",
       "      <th>downs</th>\n",
       "      <th>date</th>\n",
       "      <th>created_utc</th>\n",
       "      <th>parent_comment</th>\n",
       "    </tr>\n",
       "  </thead>\n",
       "  <tbody>\n",
       "    <tr>\n",
       "      <th>0</th>\n",
       "      <td>1</td>\n",
       "      <td>Good thing Soros is so rich, these guys must b...</td>\n",
       "      <td>zaures</td>\n",
       "      <td>politics</td>\n",
       "      <td>7</td>\n",
       "      <td>-1</td>\n",
       "      <td>-1</td>\n",
       "      <td>2016-11</td>\n",
       "      <td>2016-11-16 02:12:37</td>\n",
       "      <td>Anti-Trump protests not letting up for sixth s...</td>\n",
       "    </tr>\n",
       "    <tr>\n",
       "      <th>1</th>\n",
       "      <td>0</td>\n",
       "      <td>I'm also not being able to send NZB files from...</td>\n",
       "      <td>pienocake</td>\n",
       "      <td>usenet</td>\n",
       "      <td>1</td>\n",
       "      <td>1</td>\n",
       "      <td>0</td>\n",
       "      <td>2016-03</td>\n",
       "      <td>2016-03-17 03:23:56</td>\n",
       "      <td>Congratulations! SAB has always been a great p...</td>\n",
       "    </tr>\n",
       "    <tr>\n",
       "      <th>2</th>\n",
       "      <td>1</td>\n",
       "      <td>Or Kanye West?</td>\n",
       "      <td>griffin852</td>\n",
       "      <td>Monstercat</td>\n",
       "      <td>2</td>\n",
       "      <td>2</td>\n",
       "      <td>0</td>\n",
       "      <td>2014-08</td>\n",
       "      <td>2014-08-13 00:10:39</td>\n",
       "      <td>Or Concept?</td>\n",
       "    </tr>\n",
       "    <tr>\n",
       "      <th>3</th>\n",
       "      <td>0</td>\n",
       "      <td>Fuck.</td>\n",
       "      <td>EL_SUPER_BEASTO</td>\n",
       "      <td>Flyers</td>\n",
       "      <td>3</td>\n",
       "      <td>3</td>\n",
       "      <td>0</td>\n",
       "      <td>2014-01</td>\n",
       "      <td>2014-01-15 23:55:51</td>\n",
       "      <td>Hartnell listed as day to day after blocking shot</td>\n",
       "    </tr>\n",
       "    <tr>\n",
       "      <th>4</th>\n",
       "      <td>0</td>\n",
       "      <td>I think the suit does have some tech in it, si...</td>\n",
       "      <td>zoahporre</td>\n",
       "      <td>movies</td>\n",
       "      <td>2</td>\n",
       "      <td>2</td>\n",
       "      <td>0</td>\n",
       "      <td>2016-02</td>\n",
       "      <td>2016-02-11 18:44:38</td>\n",
       "      <td>Ok, so either Batman's *normal* suit has some ...</td>\n",
       "    </tr>\n",
       "    <tr>\n",
       "      <th>...</th>\n",
       "      <td>...</td>\n",
       "      <td>...</td>\n",
       "      <td>...</td>\n",
       "      <td>...</td>\n",
       "      <td>...</td>\n",
       "      <td>...</td>\n",
       "      <td>...</td>\n",
       "      <td>...</td>\n",
       "      <td>...</td>\n",
       "      <td>...</td>\n",
       "    </tr>\n",
       "    <tr>\n",
       "      <th>252702</th>\n",
       "      <td>0</td>\n",
       "      <td>I actually just decided to try the Catarina armor</td>\n",
       "      <td>LeConnor</td>\n",
       "      <td>darksouls</td>\n",
       "      <td>3</td>\n",
       "      <td>3</td>\n",
       "      <td>0</td>\n",
       "      <td>2012-05</td>\n",
       "      <td>2012-05-18 18:36:21</td>\n",
       "      <td>Try a new armor set. The gold-hemmed set can't...</td>\n",
       "    </tr>\n",
       "    <tr>\n",
       "      <th>252703</th>\n",
       "      <td>1</td>\n",
       "      <td>But but but... Bandwagon...</td>\n",
       "      <td>DomPlat</td>\n",
       "      <td>dbz</td>\n",
       "      <td>0</td>\n",
       "      <td>0</td>\n",
       "      <td>0</td>\n",
       "      <td>2014-07</td>\n",
       "      <td>2014-07-07 12:21:07</td>\n",
       "      <td>I think you gave me a severe aneurysm. He spec...</td>\n",
       "    </tr>\n",
       "    <tr>\n",
       "      <th>252704</th>\n",
       "      <td>1</td>\n",
       "      <td>Because I'm here?</td>\n",
       "      <td>Pnyboy42</td>\n",
       "      <td>MLPLounge</td>\n",
       "      <td>2</td>\n",
       "      <td>2</td>\n",
       "      <td>0</td>\n",
       "      <td>2016-06</td>\n",
       "      <td>2016-06-25 18:06:12</td>\n",
       "      <td>Eww, why would anyone want to go ti Michigan.</td>\n",
       "    </tr>\n",
       "    <tr>\n",
       "      <th>252705</th>\n",
       "      <td>1</td>\n",
       "      <td>Reddit needs a safe space.</td>\n",
       "      <td>Big_Test_Icicle</td>\n",
       "      <td>AdviceAnimals</td>\n",
       "      <td>1</td>\n",
       "      <td>-1</td>\n",
       "      <td>-1</td>\n",
       "      <td>2016-10</td>\n",
       "      <td>2016-10-28 17:32:54</td>\n",
       "      <td>I love how people get offended by confession b...</td>\n",
       "    </tr>\n",
       "    <tr>\n",
       "      <th>252706</th>\n",
       "      <td>0</td>\n",
       "      <td>lol my friend has one and he played minecraft ...</td>\n",
       "      <td>thechihuahua</td>\n",
       "      <td>pcmasterrace</td>\n",
       "      <td>4</td>\n",
       "      <td>4</td>\n",
       "      <td>0</td>\n",
       "      <td>2014-12</td>\n",
       "      <td>2014-12-15 04:21:23</td>\n",
       "      <td>I wish i had a makey-makey :(</td>\n",
       "    </tr>\n",
       "  </tbody>\n",
       "</table>\n",
       "<p>252707 rows × 10 columns</p>\n",
       "</div>"
      ],
      "text/plain": [
       "        label                                            comment  \\\n",
       "0           1  Good thing Soros is so rich, these guys must b...   \n",
       "1           0  I'm also not being able to send NZB files from...   \n",
       "2           1                                     Or Kanye West?   \n",
       "3           0                                              Fuck.   \n",
       "4           0  I think the suit does have some tech in it, si...   \n",
       "...       ...                                                ...   \n",
       "252702      0  I actually just decided to try the Catarina armor   \n",
       "252703      1                        But but but... Bandwagon...   \n",
       "252704      1                                  Because I'm here?   \n",
       "252705      1                         Reddit needs a safe space.   \n",
       "252706      0  lol my friend has one and he played minecraft ...   \n",
       "\n",
       "                 author      subreddit  score  ups  downs     date  \\\n",
       "0                zaures       politics      7   -1     -1  2016-11   \n",
       "1             pienocake         usenet      1    1      0  2016-03   \n",
       "2            griffin852     Monstercat      2    2      0  2014-08   \n",
       "3       EL_SUPER_BEASTO         Flyers      3    3      0  2014-01   \n",
       "4             zoahporre         movies      2    2      0  2016-02   \n",
       "...                 ...            ...    ...  ...    ...      ...   \n",
       "252702         LeConnor      darksouls      3    3      0  2012-05   \n",
       "252703          DomPlat            dbz      0    0      0  2014-07   \n",
       "252704         Pnyboy42      MLPLounge      2    2      0  2016-06   \n",
       "252705  Big_Test_Icicle  AdviceAnimals      1   -1     -1  2016-10   \n",
       "252706     thechihuahua   pcmasterrace      4    4      0  2014-12   \n",
       "\n",
       "                created_utc                                     parent_comment  \n",
       "0       2016-11-16 02:12:37  Anti-Trump protests not letting up for sixth s...  \n",
       "1       2016-03-17 03:23:56  Congratulations! SAB has always been a great p...  \n",
       "2       2014-08-13 00:10:39                                        Or Concept?  \n",
       "3       2014-01-15 23:55:51  Hartnell listed as day to day after blocking shot  \n",
       "4       2016-02-11 18:44:38  Ok, so either Batman's *normal* suit has some ...  \n",
       "...                     ...                                                ...  \n",
       "252702  2012-05-18 18:36:21  Try a new armor set. The gold-hemmed set can't...  \n",
       "252703  2014-07-07 12:21:07  I think you gave me a severe aneurysm. He spec...  \n",
       "252704  2016-06-25 18:06:12      Eww, why would anyone want to go ti Michigan.  \n",
       "252705  2016-10-28 17:32:54  I love how people get offended by confession b...  \n",
       "252706  2014-12-15 04:21:23                      I wish i had a makey-makey :(  \n",
       "\n",
       "[252707 rows x 10 columns]"
      ]
     },
     "execution_count": 6,
     "metadata": {},
     "output_type": "execute_result"
    }
   ],
   "source": [
    "X_test"
   ]
  },
  {
   "cell_type": "code",
   "execution_count": 36,
   "metadata": {},
   "outputs": [
    {
     "data": {
      "text/plain": [
       "'Good thing Soros is so rich, these guys must be making a killing on overtime.'"
      ]
     },
     "execution_count": 36,
     "metadata": {},
     "output_type": "execute_result"
    }
   ],
   "source": [
    "X_test.loc[:, \"comment\"][0]"
   ]
  },
  {
   "cell_type": "code",
   "execution_count": 42,
   "metadata": {},
   "outputs": [],
   "source": [
    "data = pd.DataFrame(\n",
    "    [\n",
    "        {\"comment\": \"Hoiberg said \\\"great players\\\", not Dwight\", \"subreddit\": \"nba\", \"parent_comment\": \"except the 2012 lakers\"},\n",
    "        {\"comment\": \"Good thing Soros is so rich, these guys must be making a killing on overtime.\", \"subreddit\": \"entertainment\", \"parent_comment\": \"What is that\"},\n",
    "        {\"comment\": \"Hello\", \"subreddit\": \"nba\", \"parent_comment\": \"Hi There\"}\n",
    "    ]\n",
    ")"
   ]
  },
  {
   "cell_type": "code",
   "execution_count": 43,
   "metadata": {},
   "outputs": [],
   "source": [
    "predictions = pipeline.predict_proba(data)"
   ]
  },
  {
   "cell_type": "code",
   "execution_count": 44,
   "metadata": {},
   "outputs": [
    {
     "data": {
      "text/plain": [
       "array([[0.41466925, 0.58533075],\n",
       "       [0.19010651, 0.80989349],\n",
       "       [0.84768555, 0.15231445]])"
      ]
     },
     "execution_count": 44,
     "metadata": {},
     "output_type": "execute_result"
    }
   ],
   "source": [
    "predictions"
   ]
  },
  {
   "cell_type": "code",
   "execution_count": 45,
   "metadata": {},
   "outputs": [
    {
     "data": {
      "text/plain": [
       "array([0.58533075, 0.80989349, 0.15231445])"
      ]
     },
     "execution_count": 45,
     "metadata": {},
     "output_type": "execute_result"
    }
   ],
   "source": [
    "predictions[:, 1][:500]"
   ]
  }
 ],
 "metadata": {
  "kernelspec": {
   "display_name": "Python 3",
   "language": "python",
   "name": "python3"
  },
  "language_info": {
   "codemirror_mode": {
    "name": "ipython",
    "version": 3
   },
   "file_extension": ".py",
   "mimetype": "text/x-python",
   "name": "python",
   "nbconvert_exporter": "python",
   "pygments_lexer": "ipython3",
   "version": "3.8.2"
  }
 },
 "nbformat": 4,
 "nbformat_minor": 4
}
